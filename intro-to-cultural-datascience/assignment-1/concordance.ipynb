{
 "cells": [
  {
   "cell_type": "markdown",
   "metadata": {},
   "source": [
    "# Build your own concordance\n",
    "\n",
    "It took 500 Dominican munks to write the first concordance of the Latin bible, and it took Rabbi Mordecai Nathan 10 years to write the first concordance of the Hebrew bible. With Python, it only takes a matter of seconds to find words in a text, along with the surrounding words.\n",
    "\n",
    "Run each cell in this notebook one at a time, in order. If something in one cell doesn't work right, it might be because you have overwritten a variable, so try going back and running all the previous cells again.\n",
    "\n",
    "First run the code and check that everything works. Then, try modifying the code. Start with the first challenges, and then continue in order. Feel free to work together, and see how far you can get. The important thing is to learn, not to solve all the challenges!"
   ]
  },
  {
   "cell_type": "code",
   "execution_count": 2,
   "metadata": {},
   "outputs": [
    {
     "name": "stdout",
     "output_type": "stream",
     "text": [
      "Requirement already satisfied: nltk in c:\\users\\jacob\\miniconda3\\envs\\cultural-datascience\\lib\\site-packages (3.9.1)\n",
      "Requirement already satisfied: click in c:\\users\\jacob\\miniconda3\\envs\\cultural-datascience\\lib\\site-packages (from nltk) (8.1.7)\n",
      "Requirement already satisfied: joblib in c:\\users\\jacob\\miniconda3\\envs\\cultural-datascience\\lib\\site-packages (from nltk) (1.4.2)\n",
      "Requirement already satisfied: regex>=2021.8.3 in c:\\users\\jacob\\miniconda3\\envs\\cultural-datascience\\lib\\site-packages (from nltk) (2024.9.11)\n",
      "Requirement already satisfied: tqdm in c:\\users\\jacob\\miniconda3\\envs\\cultural-datascience\\lib\\site-packages (from nltk) (4.66.5)\n",
      "Requirement already satisfied: colorama in c:\\users\\jacob\\miniconda3\\envs\\cultural-datascience\\lib\\site-packages (from click->nltk) (0.4.6)\n",
      "Note: you may need to restart the kernel to use updated packages.\n"
     ]
    }
   ],
   "source": [
    "# install the natural language toolkit package (nltk), which has a copy of several texts, \n",
    "#including the King James Bible\n",
    "\n",
    "%pip install nltk"
   ]
  },
  {
   "cell_type": "code",
   "execution_count": 3,
   "metadata": {},
   "outputs": [
    {
     "name": "stderr",
     "output_type": "stream",
     "text": [
      "[nltk_data] Downloading package gutenberg to\n",
      "[nltk_data]     C:\\Users\\jacob\\AppData\\Roaming\\nltk_data...\n",
      "[nltk_data]   Unzipping corpora\\gutenberg.zip.\n"
     ]
    },
    {
     "data": {
      "text/plain": [
       "True"
      ]
     },
     "execution_count": 3,
     "metadata": {},
     "output_type": "execute_result"
    }
   ],
   "source": [
    "# import the nltk package so that it is accessible to Python, and download a collection of texts from Project Gutenberg\n",
    "import nltk\n",
    "nltk.download('gutenberg')"
   ]
  },
  {
   "cell_type": "code",
   "execution_count": 4,
   "metadata": {},
   "outputs": [],
   "source": [
    "# Create a variable called \"bible\" which contains the text of the King James bible.\n",
    "bible = nltk.corpus.gutenberg.raw('bible-kjv.txt')\n",
    "\n",
    "# make all characters lowercase\n",
    "bible = bible.lower()\n",
    "\n",
    "# remove the \"\\n\" characters, which indicate line breaks in the text (newlines)\n",
    "bible = bible.replace('\\n', ' ')\n",
    "\n",
    "# split up the text into a long list of individual words\n",
    "bible = bible.split(' ')"
   ]
  },
  {
   "cell_type": "code",
   "execution_count": 5,
   "metadata": {},
   "outputs": [],
   "source": [
    "# make a variable called \"concordance\", and fill it with every occurrence of the phrase \"this world\", and a few words preceeding and following \"this world\"\n",
    "concordance = []\n",
    "for i, val in enumerate(bible):\n",
    "    if val == \"world\":\n",
    "        if bible[i-1] == \"this\":\n",
    "            concordance.append(str(' '.join(bible[i-5:i+5])))"
   ]
  },
  {
   "cell_type": "code",
   "execution_count": 6,
   "metadata": {},
   "outputs": [
    {
     "data": {
      "text/plain": [
       "['for the children of this world are in their generation',\n",
       " 'them, the children of this world marry, and are given',\n",
       " 'hateth his life in this world shall keep it unto',\n",
       " 'shall the prince of this world be cast out. ',\n",
       " 'should depart out of this world unto the father, having',\n",
       " 'for the prince of this world cometh, and hath nothing',\n",
       " 'because the prince of this world is judged.  16:12',\n",
       " 'of the princes of this world knew: for had they',\n",
       " 'for the wisdom of this world is foolishness with god.',\n",
       " 'for the fashion of this world passeth away.  7:32',\n",
       " 'whom the god of this world hath blinded the minds',\n",
       " 'chosen the poor of this world rich in faith, and',\n",
       " 'saying, the kingdoms of this world are become the kingdoms']"
      ]
     },
     "execution_count": 6,
     "metadata": {},
     "output_type": "execute_result"
    }
   ],
   "source": [
    "# take a look at what the algorithm has found\n",
    "concordance"
   ]
  },
  {
   "cell_type": "code",
   "execution_count": 7,
   "metadata": {},
   "outputs": [
    {
     "data": {
      "text/plain": [
       "13"
      ]
     },
     "execution_count": 7,
     "metadata": {},
     "output_type": "execute_result"
    }
   ],
   "source": [
    "# let's see how many instances of the phrase \"this world\" were found\n",
    "len(concordance)\n"
   ]
  },
  {
   "cell_type": "markdown",
   "metadata": {},
   "source": [
    "Let's try again, but this time let's just search for \"world\" by itself, not \"this world\"."
   ]
  },
  {
   "cell_type": "code",
   "execution_count": 8,
   "metadata": {},
   "outputs": [],
   "source": [
    "concordance = []\n",
    "for i, val in enumerate(bible):\n",
    "    if val == \"world\":\n",
    "        concordance.append(str(' '.join(bible[i-5:i+5])))"
   ]
  },
  {
   "cell_type": "code",
   "execution_count": 9,
   "metadata": {},
   "outputs": [
    {
     "data": {
      "text/plain": [
       "['and he hath set the world upon them.  2:9',\n",
       " 'appeared, the foundations of the world were discovered, at the',\n",
       " 'him, all the earth: the world also shall be stable,',\n",
       " 'upon the face of the world in the earth. ',\n",
       " 'and he shall judge the world in righteousness, he shall',\n",
       " 'and the foundations of the world were discovered at thy',\n",
       " 'all the ends of the world shall remember and turn',\n",
       " 'all the inhabitants of the world stand in awe of',\n",
       " 'not tell thee: for the world is mine, and the',\n",
       " 'is thine: as for the world and the fulness thereof,',\n",
       " 'he hath girded himself: the world also is stablished, that',\n",
       " 'that the lord reigneth: the world also shall be established',\n",
       " 'earth: he shall judge the world with righteousness, and the',\n",
       " 'also he hath set the world in their heart, so',\n",
       " 'and i will punish the world for their evil, and',\n",
       " 'kingdoms; 14:17 that made the world as a wilderness, and',\n",
       " 'fill the face of the world with cities.  14:22',\n",
       " 'all the kingdoms of the world upon the face of',\n",
       " 'mourneth and fadeth away, the world languisheth and fadeth away,',\n",
       " 'earth, the inhabitants of the world will learn righteousness. ',\n",
       " 'have the inhabitants of the world fallen.  26:19 thy',\n",
       " 'fill the face of the world with fruit.  27:7',\n",
       " 'not be ashamed nor confounded world without end.  45:18',\n",
       " 'since the beginning of the world men have not heard,',\n",
       " 'power, he hath established the world by his wisdom, and',\n",
       " 'power, he hath established the world by his wisdom, and',\n",
       " 'this world, neither in the world to come.  12:33',\n",
       " ' 18:7 woe unto the world because of offences! for',\n",
       " 'be preached in all the world for a witness unto',\n",
       " 'since the beginning of the world to this time, no,',\n",
       " 'with persecutions; and in the world to come eternal life.',\n",
       " 'which have been since the world began: 1:71 that we',\n",
       " 'caesar augustus that all the world should be taxed. ',\n",
       " 'all the kingdoms of the world in a moment of',\n",
       " 'do the nations of the world seek after: and your',\n",
       " 'for the children of this world are in their generation',\n",
       " 'present time, and in the world to come life everlasting.',\n",
       " 'them, the children of this world marry, and are given',\n",
       " 'in the world, and the world was made by him,',\n",
       " 'made by him, and the world knew him not. ',\n",
       " 'not his son into the world to condemn the world;',\n",
       " 'the world; but that the world through him might be',\n",
       " 'alway ready.  7:7 the world cannot hate you; but',\n",
       " 'and i speak to the world those things which i',\n",
       " 'heareth.  9:32 since the world began was it not',\n",
       " 'ye prevail nothing? behold, the world is gone after him.',\n",
       " 'hateth his life in this world shall keep it unto',\n",
       " 'shall the prince of this world be cast out. ',\n",
       " 'should depart out of this world unto the father, having',\n",
       " 'spirit of truth; whom the world cannot receive, because it',\n",
       " 'a little while, and the world seeth me no more;',\n",
       " 'unto you: not as the world giveth, give i unto',\n",
       " 'for the prince of this world cometh, and hath nothing',\n",
       " ' 14:31 but that the world may know that i',\n",
       " 'another.  15:18 if the world hate you, ye know',\n",
       " 'were of the world, the world would love his own:',\n",
       " 'of the world, therefore the world hateth you.  15:20',\n",
       " 'come, he will reprove the world of sin, and of',\n",
       " 'because the prince of this world is judged.  16:12',\n",
       " 'weep and lament, but the world shall rejoice: and ye',\n",
       " 'have peace.  in the world ye shall have tribulation:',\n",
       " 'had with thee before the world was.  17:6 i',\n",
       " 'them thy word; and the world hath hated them, because',\n",
       " 'one in us: that the world may believe that thou',\n",
       " 'in one; and that the world may know that thou',\n",
       " '17:25 o righteous father, the world hath not known thee:',\n",
       " 'i suppose that even the world itself could not contain',\n",
       " 'his holy prophets since the world began.  3:22 for',\n",
       " 'these that have turned the world upside down are come',\n",
       " '17:24 god that made the world and all things therein,',\n",
       " 'which he will judge the world in righteousness by that',\n",
       " 'whom all asia and the world worshippeth.  19:28 and',\n",
       " 'from the creation of the world are clearly seen, being',\n",
       " 'be stopped, and all the world may become guilty before',\n",
       " 'was kept secret since the world began, 16:26 but now',\n",
       " 'the wisdom of god the world by wisdom knew not',\n",
       " 'the foolish things of the world to confound the wise;',\n",
       " 'the weak things of the world to confound the things',\n",
       " 'which god ordained before the world unto our glory: 2:8',\n",
       " 'of the princes of this world knew: for had they',\n",
       " 'for the wisdom of this world is foolishness with god.',\n",
       " 'the world? and if the world shall be judged by',\n",
       " 'for the fashion of this world passeth away.  7:32',\n",
       " 'eat no flesh while the world standeth, lest i make',\n",
       " 'whom the ends of the world are come.  10:12',\n",
       " 'whom the god of this world hath blinded the minds',\n",
       " 'was in christ, reconciling the world unto himself, not imputing',\n",
       " 'but the sorrow of the world worketh death.  7:11',\n",
       " 'jesus christ, by whom the world is crucified unto me,',\n",
       " 'from the beginning of the world hath been hid in',\n",
       " 'christ jesus throughout all ages, world without end. amen. ',\n",
       " 'christ jesus came into the world to save sinners; of',\n",
       " 'in christ jesus before the world began, 1:10 but is',\n",
       " 'cannot lie, promised before the world began; 1:3 but hath',\n",
       " 'not put in subjection the world to come, whereof we',\n",
       " 'and the powers of the world to come, 6:6 if',\n",
       " 'in the end of the world hath he appeared to',\n",
       " 'tormented; 11:38 (of whom the world was not worthy:) they',\n",
       " 'chosen the poor of this world rich in faith, and',\n",
       " 'tongue is a fire, a world of iniquity: so is',\n",
       " 'that the friendship of the world is enmity with god?',\n",
       " 'be a friend of the world is the enemy of',\n",
       " 'corruption that is in the world through lust.  1:5',\n",
       " 'in the flood upon the world of the ungodly; 2:6',\n",
       " 'escaped the pollutions of the world through the knowledge of',\n",
       " 'the water: 3:6 whereby the world that then was, being',\n",
       " 'world.  2:17 and the world passeth away, and the',\n",
       " 'sons of god: therefore the world knoweth us not, because',\n",
       " 'not, my brethren, if the world hate you.  3:14',\n",
       " 'of the world, and the world heareth them.  4:6',\n",
       " 'of god, and the whole world lieth in wickedness. ',\n",
       " 'saying, the kingdoms of this world are become the kingdoms',\n",
       " 'was healed: and all the world wondered after the beast.']"
      ]
     },
     "execution_count": 9,
     "metadata": {},
     "output_type": "execute_result"
    }
   ],
   "source": [
    "# take a look at what the algorithm has found\n",
    "concordance"
   ]
  },
  {
   "cell_type": "code",
   "execution_count": 10,
   "metadata": {},
   "outputs": [
    {
     "data": {
      "text/plain": [
       "113"
      ]
     },
     "execution_count": 10,
     "metadata": {},
     "output_type": "execute_result"
    }
   ],
   "source": [
    "# let's see how many instances of just the word \"world\" were found\n",
    "len(concordance)"
   ]
  },
  {
   "cell_type": "markdown",
   "metadata": {},
   "source": [
    "Now, in the cell below, modify the code to search for a different word."
   ]
  },
  {
   "cell_type": "code",
   "execution_count": 18,
   "metadata": {},
   "outputs": [
    {
     "name": "stdout",
     "output_type": "stream",
     "text": [
      "['cattle, and creeping thing, and beast of the earth after', '1:25 and god made the beast of the earth after', ' 1:30 and to every beast of the earth, and', 'the lord god formed every beast of the field, and', 'the air, and to every beast of the field; but', 'was more subtil than any beast of the field which', 'all cattle, and above every beast of the field; upon', ' 7:2 of every clean beast thou shalt take to', 'ark; 7:14 they, and every beast after his kind, and', 'you shall be upon every beast of the earth, and', 'at the hand of every beast will i require it,', 'the cattle, and of every beast of the earth with', 'of the ark, to every beast of the earth. ', \"and their substance and every beast of their's be our's?\", 'we will say, some evil beast hath devoured him: and', \"my son's coat; an evil beast hath devoured him; joseph\", 'for upon every man and beast which shall be found', 'firstling that cometh of a beast which thou hast; the', 'shot through; whether it be beast or man, it shall', 'of them; and the dead beast shall be his. ', '22:19 whosoever lieth with a beast shall surely be put', 'land become desolate, and the beast of the field multiply', 'and the fat of the beast that dieth of itself,', '11:26 the carcases of every beast which divideth the hoof,', 'the clean, and between the beast that may be eaten', 'may be eaten and the beast that may not be', 'which hunteth and catcheth any beast or fowl that may', 'shalt thou lie with any beast to defile thyself therewith:', 'any woman stand before a beast to lie down thereto:', 'and he that killeth a beast shall make it good;', 'beast shall make it good; beast for beast.  24:19', 'thy cattle, and for the beast that are in thy', 'he shall at all change beast for beast, then it', 'then he shall present the beast before the priest: 27:12', '4:17 the likeness of any beast that is on the', 'chamois.  14:6 and every beast that parteth the hoof,', 'there passed by a wild beast that was in lebanon,', 'there passed by a wild beast that was in lebanon,', 'jerusalem: neither was there any beast with me, save the', 'beast with me, save the beast that i rode upon.', 'was no place for the beast that was under me', 'them, or that the wild beast may break them. ', 'folds.  50:10 for every beast of the forest is', 'ignorant: i was as a beast before thee.  73:23', 'waste it, and the wild beast of the field doth', 'they give drink to every beast of the field: the', '147:9 he giveth to the beast his food, and to', 'and the spirit of the beast that goeth downward to', 'be there, nor any ravenous beast shall go up thereon,', 'the desert.  43:20 the beast of the field shall', 'stumble?  63:14 as a beast goeth down into the', 'of the heavens and the beast are fled; they are', 'earth, the man and the beast that are upon the', 'will cut off man and beast from it: 14:14 though', 'i cut off man and beast from it: 14:18 though', 'will cut off man and beast from it; and i', 'and cut off man and beast out of thee. ', 'through it, nor foot of beast shall pass through it,', 'flock became meat to every beast of the field, because', 'the heathen, neither shall the beast of the land devour', 'feathered fowl, and to every beast of the field, assemble', 'wings of a fowl; the beast had also four heads;', 'i beheld even till the beast was slain, and his', 'thus he said, the fourth beast shall be the fourth', 'like a lion: the wild beast shall tear them. ', '3:8 but let man and beast be covered with sackcloth,', 'the barbarians saw the venomous beast hang on his hand,', 'and he shook off the beast into the fire, and', 'if so much as a beast touch the mountain, it', ' 4:7 and the first beast was like a lion,', 'a lion, and the second beast like a calf, and', 'a calf, and the third beast had a face as', 'a man, and the fourth beast was like a flying', 'seal, i heard the second beast say, come and see.', 'seal, i heard the third beast say, come and see.', 'the voice of the fourth beast say, come and see.', 'have finished their testimony, the beast that ascendeth out of', 'the sea, and saw a beast rise up out of', 'blasphemy.  13:2 and the beast which i saw was', '13:11 and i beheld another beast coming up out of', 'the power of the first beast before him, and causeth', 'that the image of the beast should both speak, and', 'worship the image of the beast should be killed. ', 'if any man worship the beast and his image, and', 'nor night, who worship the beast and his image, and', 'the woman, and of the beast that carrieth her, which', 'ten horns.  17:8 the beast that thou sawest was,', 'world, when they behold the beast that was, and is', 'space.  17:11 and the beast that was, and is', 'army.  19:20 and the beast was taken, and with', 'fire and brimstone, where the beast and the false prophet']\n"
     ]
    },
    {
     "data": {
      "text/plain": [
       "91"
      ]
     },
     "execution_count": 18,
     "metadata": {},
     "output_type": "execute_result"
    }
   ],
   "source": [
    "my_concordance = []\n",
    "for i, val in enumerate(bible):\n",
    "    if val == \"beast\":\n",
    "        my_concordance.append(str(' '.join(bible[i-5:i+5])))\n",
    "\n",
    "print(my_concordance)   \n",
    "len(my_concordance)  \n"
   ]
  },
  {
   "cell_type": "markdown",
   "metadata": {},
   "source": [
    "The nltk package has the full text of several other classic books. You can see what they are called by running the command in the cell below:"
   ]
  },
  {
   "cell_type": "code",
   "execution_count": 19,
   "metadata": {},
   "outputs": [
    {
     "data": {
      "text/plain": [
       "['austen-emma.txt',\n",
       " 'austen-persuasion.txt',\n",
       " 'austen-sense.txt',\n",
       " 'bible-kjv.txt',\n",
       " 'blake-poems.txt',\n",
       " 'bryant-stories.txt',\n",
       " 'burgess-busterbrown.txt',\n",
       " 'carroll-alice.txt',\n",
       " 'chesterton-ball.txt',\n",
       " 'chesterton-brown.txt',\n",
       " 'chesterton-thursday.txt',\n",
       " 'edgeworth-parents.txt',\n",
       " 'melville-moby_dick.txt',\n",
       " 'milton-paradise.txt',\n",
       " 'shakespeare-caesar.txt',\n",
       " 'shakespeare-hamlet.txt',\n",
       " 'shakespeare-macbeth.txt',\n",
       " 'whitman-leaves.txt']"
      ]
     },
     "execution_count": 19,
     "metadata": {},
     "output_type": "execute_result"
    }
   ],
   "source": [
    "nltk.corpus.gutenberg.fileids()"
   ]
  },
  {
   "cell_type": "markdown",
   "metadata": {},
   "source": [
    "## Your turn!\n",
    "\n",
    "Here are a some more things you can try. In each case, I have given you a little bit of starter code to get you going, but the cells will not run without some additional code from you.\n"
   ]
  },
  {
   "cell_type": "code",
   "execution_count": 67,
   "metadata": {},
   "outputs": [],
   "source": [
    "# Create class to solve all tasks\n",
    "from nltk.corpus import gutenberg\n",
    "from nltk.probability import FreqDist\n",
    "\n",
    "class BookAnalyzer:\n",
    "    def __init__(self, book_title):\n",
    "        self.book_title = book_title\n",
    "        self.raw_text = gutenberg.raw(book_title)\n",
    "        self.words = self.process_book()\n",
    "        \n",
    "    def process_book(self):\n",
    "        text = self.raw_text.lower()\n",
    "        text = text.replace('\\n', ' ').replace('\\r', ' ')\n",
    "        return text.split()\n",
    "    \n",
    "    def remove_stopwords(self, stopwords):\n",
    "        self.words = [word for word in self.words if word not in stopwords]\n",
    "    \n",
    "    def search_for_word(self, target_word, context=5):\n",
    "        concordance = []\n",
    "        for i, word in enumerate(self.words):\n",
    "            if word == target_word:\n",
    "                start = max(0, i - context)\n",
    "                end = min(len(self.words), i + context + 1)\n",
    "                concordance.append(' '.join(self.words[start:end]))\n",
    "        return concordance\n",
    "    \n",
    "    def find_number_of_words(self):\n",
    "        return len(self.words)\n",
    "    \n",
    "    def find_most_frequent_words(self, n=10):\n",
    "        freq_dist = FreqDist(self.words)\n",
    "        return freq_dist.most_common(n)"
   ]
  },
  {
   "cell_type": "markdown",
   "metadata": {},
   "source": [
    "\n",
    "\n",
    "## Challenge 1: build your own concordance\n",
    "\n",
    "Pick a different book and a different word, or pair of words. Copy and paste from the code above to write some Python code that searches the book of your choice for the word or pair of words of your choice. Put this code in the cell below. By the way, some of the texts use the characters \"\\r\" for \"carriage return\" instead of \"\\n\" for \"newline\". You can remove these the same way that you remove the \"\\n\" characters."
   ]
  },
  {
   "cell_type": "code",
   "execution_count": 56,
   "metadata": {},
   "outputs": [
    {
     "name": "stdout",
     "output_type": "stream",
     "text": [
      "['of the reuolt the newest state mal. this is the serieant,', 'fantasticall, shakes so my single state of man, that function is', 'you known, though in your state of honor i am perfect;', 'as snow, and the poore state esteeme him as a lambe,']\n",
      "Number of occurrences: 4\n"
     ]
    }
   ],
   "source": [
    "macbeth_analyzer = BookAnalyzer('shakespeare-macbeth.txt')\n",
    "macbeth_concordance = macbeth_analyzer.search_for_word('state')\n",
    "print(macbeth_concordance)\n",
    "print(f\"Number of occurrences: {len(macbeth_concordance)}\")"
   ]
  },
  {
   "cell_type": "markdown",
   "metadata": {},
   "source": [
    "## Challenge 2: compare lengths of books\n",
    "\n",
    "We can use the command `len` to find how many items there are in a list. E.g., to find the number of words in the list called `bible`, above, we can write: `len(bible)`. \n",
    "\n",
    "Use the starter code below to find out which book in the books included in `nltk` has the most words."
   ]
  },
  {
   "cell_type": "code",
   "execution_count": 58,
   "metadata": {},
   "outputs": [],
   "source": [
    "# create function to analyze all books\n",
    "def analyze_all_books():\n",
    "    books = gutenberg.fileids()\n",
    "    book_info = []\n",
    "    for title in books:\n",
    "        analyzer = BookAnalyzer(title)\n",
    "        book_info.append({\n",
    "            'title': title,\n",
    "            'word_count': analyzer.find_number_of_words()\n",
    "        })\n",
    "    return sorted(book_info, key=lambda x: x['word_count'], reverse=True)"
   ]
  },
  {
   "cell_type": "code",
   "execution_count": 61,
   "metadata": {},
   "outputs": [
    {
     "name": "stdout",
     "output_type": "stream",
     "text": [
      "\n",
      "Challenge 2: Book lengths\n",
      "bible-kjv.txt: 821133 words\n",
      "melville-moby_dick.txt: 212030 words\n",
      "edgeworth-parents.txt: 166070 words\n",
      "austen-emma.txt: 158167 words\n",
      "whitman-leaves.txt: 122070 words\n",
      "\n",
      "The book with the most words is: bible-kjv.txt with 821133 words\n"
     ]
    }
   ],
   "source": [
    "print(\"\\nChallenge 2: Book lengths\")\n",
    "book_info_sorted = analyze_all_books()\n",
    "for book in book_info_sorted[:5]:  # Print top 5 books\n",
    "    print(f\"{book['title']}: {book['word_count']} words\")\n",
    "print(f\"\\nThe book with the most words is: {book_info_sorted[0]['title']} with {book_info_sorted[0]['word_count']} words\")"
   ]
  },
  {
   "cell_type": "markdown",
   "metadata": {},
   "source": [
    "## Challenge 3: what are the most frequent words?\n",
    "\n",
    "`nltk` has a built-in function called `FreqDist` which counts up how many times each word in a text occurs. So, if you have a list called `words` which contains all the words in a book, you can find the frequencies of all of them by writing `freq = nltk.FreqDist(words)`. You can then get the e.g. ten most common words by writing `freq.most_common(10)`. What are the ten most common words in Jane Austen's \"Emma\"? What about Herman Melville's \"Moby Dick\"?"
   ]
  },
  {
   "cell_type": "code",
   "execution_count": 63,
   "metadata": {},
   "outputs": [
    {
     "name": "stdout",
     "output_type": "stream",
     "text": [
      "\n",
      "Challenge 3: Most frequent words\n",
      "Top 10 words in Emma:\n",
      "[('the', 5120), ('to', 5079), ('and', 4445), ('of', 4196), ('a', 3055), ('i', 2602), ('was', 2302), ('she', 2169), ('in', 2091), ('not', 2028)]\n",
      "\n",
      "Top 10 words in Moby Dick:\n",
      "[('the', 14226), ('of', 6545), ('and', 6238), ('a', 4597), ('to', 4518), ('in', 4058), ('that', 2744), ('his', 2485), ('it', 1765), ('i', 1724)]\n"
     ]
    }
   ],
   "source": [
    "print(\"\\nChallenge 3: Most frequent words\")\n",
    "emma_analyzer = BookAnalyzer('austen-emma.txt')\n",
    "moby_dick_analyzer = BookAnalyzer('melville-moby_dick.txt')\n",
    "\n",
    "print(\"Top 10 words in Emma:\")\n",
    "print(emma_analyzer.find_most_frequent_words())\n",
    "\n",
    "print(\"\\nTop 10 words in Moby Dick:\")\n",
    "print(moby_dick_analyzer.find_most_frequent_words())\n"
   ]
  },
  {
   "cell_type": "markdown",
   "metadata": {},
   "source": [
    "## Challenge 4: Remove stopwords\n",
    "\n",
    "Often, the most frequent words are not the most interesting ones. Words like \"a\" and \"the\" are so common in English, that they don't really tell us much about the text. That is why we often remove \"stopwords\", that is, a list of the most common words in English, before e.g. counting frequencies. There are several of these lists available, in [English]((https://gist.github.com/sebleier/554280)) as well as other languages, such as [Danish](https://gist.github.com/berteltorp/0cf8a0c7afea7f25ed754f24cfc2467b). Below is some starter code to remove stopwords. Use these snippets to see what the most common words in Emma and Moby Dick are after removing these most common words.\n",
    "\n",
    "Hint: In Moby Dick, you will also have to remove the string `\\r`, in addition to removing `\\n`."
   ]
  },
  {
   "cell_type": "code",
   "execution_count": 65,
   "metadata": {},
   "outputs": [],
   "source": [
    "stopwords = [\"\", \"i\", \"me\", \"my\", \"myself\", \"we\", \"our\", \"ours\", \"ourselves\", \"you\", \"your\", \"yours\", \"yourself\", \"yourselves\", \"he\", \"him\", \"his\", \"himself\", \"she\", \"her\", \"hers\", \"herself\", \"it\", \"its\", \"itself\", \"they\", \"them\", \"their\", \"theirs\", \"themselves\", \"what\", \"which\", \"who\", \"whom\", \"this\", \"that\", \"these\", \"those\", \"am\", \"is\", \"are\", \"was\", \"were\", \"be\", \"been\", \"being\", \"have\", \"has\", \"had\", \"having\", \"do\", \"does\", \"did\", \"doing\", \"a\", \"an\", \"the\", \"and\", \"but\", \"if\", \"or\", \"because\", \"as\", \"until\", \"while\", \"of\", \"at\", \"by\", \"for\", \"with\", \"about\", \"against\", \"between\", \"into\", \"through\", \"during\", \"before\", \"after\", \"above\", \"below\", \"to\", \"from\", \"up\", \"down\", \"in\", \"out\", \"on\", \"off\", \"over\", \"under\", \"again\", \"further\", \"then\", \"once\", \"here\", \"there\", \"when\", \"where\", \"why\", \"how\", \"all\", \"any\", \"both\", \"each\", \"few\", \"more\", \"most\", \"other\", \"some\", \"such\", \"no\", \"nor\", \"not\", \"only\", \"own\", \"same\", \"so\", \"than\", \"too\", \"very\", \"s\", \"t\", \"can\", \"will\", \"just\", \"don\", \"should\", \"now\"]"
   ]
  },
  {
   "cell_type": "code",
   "execution_count": 66,
   "metadata": {},
   "outputs": [
    {
     "name": "stdout",
     "output_type": "stream",
     "text": [
      "\n",
      "Challenge 4: Most frequent words after removing stopwords\n",
      "Top 10 words in Emma (without stopwords):\n",
      "[('mr.', 1097), ('could', 800), ('would', 795), ('mrs.', 675), ('miss', 568), ('must', 543), ('emma', 481), ('much', 427), ('every', 425), ('said', 392)]\n",
      "\n",
      "Top 10 words in Moby Dick (without stopwords):\n",
      "[('one', 779), ('like', 564), ('upon', 556), ('whale', 528), ('old', 425), ('would', 416), ('though', 311), ('great', 292), ('still', 282), ('seemed', 273)]\n"
     ]
    }
   ],
   "source": [
    "print(\"\\nChallenge 4: Most frequent words after removing stopwords\")\n",
    "emma_analyzer.remove_stopwords(stopwords)\n",
    "moby_dick_analyzer.remove_stopwords(stopwords)\n",
    "\n",
    "print(\"Top 10 words in Emma (without stopwords):\")\n",
    "print(emma_analyzer.find_most_frequent_words())\n",
    "\n",
    "print(\"\\nTop 10 words in Moby Dick (without stopwords):\")\n",
    "print(moby_dick_analyzer.find_most_frequent_words())"
   ]
  }
 ],
 "metadata": {
  "kernelspec": {
   "display_name": "Python 3 (ipykernel)",
   "language": "python",
   "name": "python3"
  },
  "language_info": {
   "codemirror_mode": {
    "name": "ipython",
    "version": 3
   },
   "file_extension": ".py",
   "mimetype": "text/x-python",
   "name": "python",
   "nbconvert_exporter": "python",
   "pygments_lexer": "ipython3",
   "version": "3.11.9"
  }
 },
 "nbformat": 4,
 "nbformat_minor": 4
}
